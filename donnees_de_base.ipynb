{
 "cells": [
  {
   "cell_type": "markdown",
   "metadata": {},
   "source": [
    "# Fiche : Représentation des données : types et valeurs de base\n",
    "\n",
    "Avant de pouvoir étudier la manière dont l’ordinateur traite l’information, nous devons fixer la manière dont cette information est représentée. \n",
    "\n",
    "### Source : https://owncloud.ulb.ac.be/index.php/s/Yg3EhydI5CFmOdn"
   ]
  },
  {
   "cell_type": "markdown",
   "metadata": {},
   "source": [
    "## Objectifs, niveau taxonomique, pré-requis\n",
    "\n",
    "### Objectifs\n",
    "Les objetifs de cette partie sont :\n",
    "- de bien faire la distinction entre valeur et représentation ;\n",
    "- d’étudier la représentation binaire, qui est aujourd’hui la représentation universellement utilisée en informatique pour toutes les informations que les ordinateurs manipulent.\n",
    "\n",
    "### Niveau taxonomique\n",
    "- Connaissance active de la part de l'enseignant\n",
    "- Compréhension de la part des élèves\n",
    "\n",
    "### Pré-requis\n",
    "Savoir programmer en python des changements de base (varaibles simples, instructions, fonctions Python). "
   ]
  },
  {
   "cell_type": "markdown",
   "metadata": {},
   "source": [
    "## Scénario minuté (durée apprenant). (11 vidéos /total 50') + lecture du texte + quiz + exercices python valeur <-> représentation : 6h de travail pour les apprenants\n",
    "### Unités de quantité d’information : [video 2']\n",
    "### Ecriture des nombres dans différentes bases\n",
    "- bases 10, b, 2, 16, chiffres de poids fort/faible, ajouts de zéros, multiplier ou diviser par la base : [vidéo 5']\n",
    "- changements de base\n",
    "    - cas des nombres entiers : [vidéo 3']\n",
    "    - cas des nombres réels [vidéo 6']\n",
    "- Opérations en base 2: opérations arithmétiques, logiques, masques, décalages, division&multiplications : [vidéo 6']\n",
    "- Représentation des entiers non-signés\n",
    "    - Représentation des nombres entiers signés (bit de signe, complément à 1, complément à 2, excès à K) : [vidéo 4'] (pas les détails du texte)\n",
    "    - Représentation des nombres « réels » : vigule fixe, virgile flottante : [vidéo 5'] sans les détails du texte\n",
    "### Représentation des caractères : [vidéo 6']\n",
    "- Codes historiques : Émile Baudot et les téléscripteurs\n",
    "- Le code ASCII\n",
    "- ISO-Latin1\n",
    "- Unicode / UTF-8\n",
    "### Représentation d'images : [vidéo 4']\n",
    "- JPEG, PNG, TIFF, GIF, BMP\n",
    "### Représentation des instructions : matière avancée : [vidéo 3']\n",
    "### Détection et correction d’erreurs : [vidéo 6']\n",
    "- Bit de parité\n",
    "- Code de Hamming\n",
    "- Applications : code QR"
   ]
  },
  {
   "cell_type": "markdown",
   "metadata": {},
   "source": [
    "## Ce qu’il faut retenir pour le concours CAPES (reprendre des éléments du programme CAPES/NSI)"
   ]
  },
  {
   "cell_type": "markdown",
   "metadata": {},
   "source": [
    "## Ce qui est nécessaire pour enseigner (notamment pour les projets) reprendre des éléments du programme NSI)"
   ]
  }
 ],
 "metadata": {
  "kernelspec": {
   "display_name": "Python 3",
   "language": "python",
   "name": "python3"
  },
  "language_info": {
   "codemirror_mode": {
    "name": "ipython",
    "version": 3
   },
   "file_extension": ".py",
   "mimetype": "text/x-python",
   "name": "python",
   "nbconvert_exporter": "python",
   "pygments_lexer": "ipython3",
   "version": "3.7.4"
  }
 },
 "nbformat": 4,
 "nbformat_minor": 2
}
