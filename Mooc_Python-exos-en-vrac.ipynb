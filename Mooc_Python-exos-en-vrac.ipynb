{
 "cells": [
  {
   "cell_type": "markdown",
   "metadata": {},
   "source": [
    "<div class=\"licence\">\n",
    "<span>Licence CC BY-NC-ND</span>\n",
    "<span>Thierry Parmentelat &amp; Arnaud Legout</span>\n",
    "<span><img src=\"media/both-logos-small-alpha.png\" /></span>\n",
    "</div>"
   ]
  },
  {
   "cell_type": "markdown",
   "metadata": {},
   "source": [
    "# Quelques sujets d'exercice en vrac"
   ]
  },
  {
   "cell_type": "code",
   "execution_count": null,
   "metadata": {},
   "outputs": [],
   "source": [
    "# ceci permet de recharger les modules\n",
    "# lorsqu'ils ont été modifiés en dehors du notebook\n",
    "\n",
    "# pour commodité lors du développement des exercices\n",
    "\n",
    "%load_ext autoreload\n",
    "%autoreload 2"
   ]
  },
  {
   "cell_type": "markdown",
   "metadata": {},
   "source": [
    "#### Niveaux de difficulté"
   ]
  },
  {
   "cell_type": "markdown",
   "metadata": {},
   "source": [
    "La plupart de (tous ?) ces exercices sont inspirés d'énoncés trouvés sur https://codewars.com/ ; dans ces cas-là j'indique la référence, ainsi que la difficulté affichée sur codewars ; [l'échelle est à la japonaise](https://github.com/Codewars/codewars.com/wiki/Kata-Ranking), 1 kyu c'est très difficile et 8 kyu c'est très simple."
   ]
  },
  {
   "cell_type": "markdown",
   "metadata": {},
   "source": [
    "******"
   ]
  },
  {
   "cell_type": "markdown",
   "metadata": {},
   "source": [
    "## Trouver la somme"
   ]
  },
  {
   "cell_type": "markdown",
   "metadata": {},
   "source": [
    "**inspiré de https://www.codewars.com/kata/52c31f8e6605bcc646000082** (6 kyu)"
   ]
  },
  {
   "cell_type": "markdown",
   "metadata": {},
   "source": [
    "On cherche dans une liste deux nombres (à des indices différents) dont la somme est fixée\n",
    "\n",
    "* en entrée : une liste de nombres, et une valeur cible\n",
    "* en sortie : les index dans la liste de deux nombres dont la somme est égale à la valeur cible ;  \n",
    "  on doit retourner un tuple, trié dans l'ordre croissant.\n",
    "\n",
    "Hypothèses : on admet (pas besoin de le vérifier donc) que les entrées sont correctes, c'est-à-dire ne contiennent que des nombres et qu'il existe une solution.\n",
    "\n",
    "Unicité : n'importe quelle solution est valable en cas de solutions multiples ; toutefois pour des raisons techniques, la correction automatique ne teste votre code que sur des entrées où la solution est unique."
   ]
  },
  {
   "cell_type": "code",
   "execution_count": null,
   "metadata": {},
   "outputs": [],
   "source": [
    "# charger l'exercice et afficher un exemple\n",
    "\n",
    "from corrections.exo_two_sum import exo_two_sum\n",
    "exo_two_sum.example()"
   ]
  },
  {
   "cell_type": "code",
   "execution_count": null,
   "metadata": {},
   "outputs": [],
   "source": [
    "# indice : il y a peut-être des choses utiles dans ce module\n",
    "# import itertools\n",
    "\n",
    "def two_sum(data, target):\n",
    "    ..."
   ]
  },
  {
   "cell_type": "code",
   "execution_count": null,
   "metadata": {},
   "outputs": [],
   "source": [
    "exo_two_sum.correction(two_sum)"
   ]
  },
  {
   "cell_type": "markdown",
   "metadata": {},
   "source": [
    "*****"
   ]
  },
  {
   "cell_type": "markdown",
   "metadata": {},
   "source": [
    "## Plus grande distance"
   ]
  },
  {
   "cell_type": "markdown",
   "metadata": {},
   "source": [
    "**inspiré de https://www.codewars.com/kata/5442e4fc7fc447653a0000d5** (6 kyu)"
   ]
  },
  {
   "cell_type": "markdown",
   "metadata": {},
   "source": [
    "* en entrée : une liste d'objets (vous pouvez vous restreindre à des entiers pour commencer)\n",
    "* en sortie : un entier qui décrit la plus grande distance (en termes d'indices) entre deux occurrences du même objet dans la liste ;  \n",
    "  si aucun objet n'est présent en double, retournez 0."
   ]
  },
  {
   "cell_type": "code",
   "execution_count": null,
   "metadata": {},
   "outputs": [],
   "source": [
    "from corrections.exo_longest_gap import exo_longest_gap\n",
    "\n",
    "exo_longest_gap.example()"
   ]
  },
  {
   "cell_type": "code",
   "execution_count": null,
   "metadata": {},
   "outputs": [],
   "source": [
    "# votre code\n",
    "def longest_gap(liste):\n",
    "    ..."
   ]
  },
  {
   "cell_type": "code",
   "execution_count": null,
   "metadata": {},
   "outputs": [],
   "source": [
    "exo_longest_gap.correction(longest_gap)"
   ]
  },
  {
   "cell_type": "markdown",
   "metadata": {},
   "source": [
    "## Meeting"
   ]
  },
  {
   "cell_type": "markdown",
   "metadata": {},
   "source": [
    "**inspiré de https://www.codewars.com/kata/59df2f8f08c6cec835000012** (6 kyu)\n",
    "\n",
    "Je vous invite à lire l'énoncé directement sur codewars.  \n",
    "**Notez bien** toutefois que, contrairement à ce qui est demandé sur codewars, notre variante ne met pas le texte en majuscule."
   ]
  },
  {
   "cell_type": "markdown",
   "metadata": {},
   "source": [
    "**Rappel sur la concaténation des chaines**\n",
    "remarquez aussi l'usage qu'on fait ici, pour la présentation, de la concaténation de chaines :"
   ]
  },
  {
   "cell_type": "code",
   "execution_count": null,
   "metadata": {},
   "outputs": [],
   "source": [
    "# rappel sur la concaténation des chaines\n",
    "# grâce à la parenthèse on peut \n",
    "# se passer des \\ qui sont assez vilains\n",
    "x = (\"une chaine unique \"\n",
    "     \"que l'on coupe en morceaux \"\n",
    "     \"parce qu'elle est très longue\")"
   ]
  },
  {
   "cell_type": "code",
   "execution_count": null,
   "metadata": {},
   "outputs": [],
   "source": [
    "x"
   ]
  },
  {
   "cell_type": "code",
   "execution_count": null,
   "metadata": {},
   "outputs": [],
   "source": [
    "from corrections.exo_meeting import exo_meeting\n",
    "\n",
    "exo_meeting.example()"
   ]
  },
  {
   "cell_type": "code",
   "execution_count": null,
   "metadata": {},
   "outputs": [],
   "source": [
    "def meeting(string):\n",
    "    ..."
   ]
  },
  {
   "cell_type": "code",
   "execution_count": null,
   "metadata": {},
   "outputs": [],
   "source": [
    "exo_meeting.correction(meeting)"
   ]
  },
  {
   "cell_type": "markdown",
   "metadata": {},
   "source": [
    "****"
   ]
  },
  {
   "cell_type": "markdown",
   "metadata": {},
   "source": [
    "## Évaluateur d'expression postfix (6 kyu)"
   ]
  },
  {
   "cell_type": "markdown",
   "metadata": {},
   "source": [
    "Une fonction `postfix_eval` prend en entrée une chaîne qui décrit une opération à faire sur des entiers, en utilisant **la notation polonaise postfixée**, où on écrit par exemple `10 20 +` pour ajouter 10 et 20 ; cette notation est aussi appelée la *notation polonaise inverse*.\n",
    "\n",
    "Les opérandes sont tous des entiers ; on demande de supporter les 4 opérations `+` `-` `*` et `/` (division entière), la calculatrice ne manipule donc que des entiers.\n",
    "\n",
    "Lorsque la chaine est mal formée, vous devez renvoyer une des trois chaines suivantes :\n",
    "\n",
    "* `error-syntax` si on ne peut pas comprendre l'entrée,\n",
    "* `error-empty-stack`, si on essaie de faire une opération mais que l'on n'a pas les deux opérandes nécessaires,\n",
    "* `error-unfinished`, si on détecte des opérandes non utilisés."
   ]
  },
  {
   "cell_type": "code",
   "execution_count": null,
   "metadata": {},
   "outputs": [],
   "source": [
    "# charger l'exercice et afficher un exemple\n",
    "from corrections.exo_postfix_eval import exo_postfix_eval\n",
    "exo_postfix_eval.example()"
   ]
  },
  {
   "cell_type": "code",
   "execution_count": null,
   "metadata": {},
   "outputs": [],
   "source": [
    "def postfix_eval(chaine):\n",
    "    ..."
   ]
  },
  {
   "cell_type": "code",
   "execution_count": null,
   "metadata": {},
   "outputs": [],
   "source": [
    "exo_postfix_eval.correction(postfix_eval)"
   ]
  },
  {
   "cell_type": "markdown",
   "metadata": {},
   "source": [
    "****"
   ]
  },
  {
   "cell_type": "markdown",
   "metadata": {},
   "source": [
    "## Évaluateur d'expression postfix typé (5 kyu)"
   ]
  },
  {
   "cell_type": "code",
   "execution_count": null,
   "metadata": {},
   "outputs": [],
   "source": [
    "from fractions import Fraction"
   ]
  },
  {
   "cell_type": "markdown",
   "metadata": {},
   "source": [
    "Écrire une variante de `postfix_eval` qui accepte en deuxième argument un type de nombre parmi `int`, `float`, ou `Fraction`, de sorte que la calculette utilise ce type pour faire ses calculs.\n",
    "\n",
    "**indice :** attention au cas de la division, qui doit se comporter selon le type comme une division entière (comme dans `postfix_eval`), ou comme une division usuelle si le type le permet."
   ]
  },
  {
   "cell_type": "code",
   "execution_count": null,
   "metadata": {},
   "outputs": [],
   "source": [
    "# charger l'exercice et afficher un exemple\n",
    "\n",
    "from corrections.exo_postfix_eval import exo_postfix_eval_typed\n",
    "exo_postfix_eval_typed.example()"
   ]
  },
  {
   "cell_type": "code",
   "execution_count": null,
   "metadata": {},
   "outputs": [],
   "source": [
    "# votre code\n",
    "def postfix_eval_typed(chaine, result_type):\n",
    "    ..."
   ]
  },
  {
   "cell_type": "code",
   "execution_count": null,
   "metadata": {},
   "outputs": [],
   "source": [
    "exo_postfix_eval_typed.correction(postfix_eval_typed)"
   ]
  },
  {
   "cell_type": "markdown",
   "metadata": {},
   "source": [
    "****"
   ]
  }
 ],
 "metadata": {
  "ipub": {
   "sphinx": {
    "toggle_input": true,
    "toggle_input_all": true,
    "toggle_output": true,
    "toggle_output_all": true
   }
  },
  "jupytext": {
   "cell_metadata_filter": "all",
   "formats": "md:myst",
   "notebook_metadata_filter": "all,-language_info,-toc,-jupytext.text_representation.jupytext_version,-jupytext.text_representation.format_version",
   "text_representation": {
    "extension": ".md",
    "format_name": "myst"
   }
  },
  "kernelspec": {
   "display_name": "Python 3",
   "language": "python",
   "name": "python3"
  },
  "notebookname": "Exercices en vrac",
  "version": "3.0"
 },
 "nbformat": 4,
 "nbformat_minor": 4
}
